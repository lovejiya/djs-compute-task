{
 "cells": [
  {
   "cell_type": "code",
   "execution_count": 38,
   "id": "f27f5951",
   "metadata": {},
   "outputs": [],
   "source": [
    "import pandas as pd\n",
    "import numpy as np\n",
    "import matplotlib.pyplot as plt\n",
    "import seaborn as sns\n"
   ]
  },
  {
   "cell_type": "code",
   "execution_count": 39,
   "id": "9ffbfa8f",
   "metadata": {},
   "outputs": [
    {
     "name": "stdout",
     "output_type": "stream",
     "text": [
      "<class 'pandas.core.frame.DataFrame'>\n",
      "RangeIndex: 10000 entries, 0 to 9999\n",
      "Data columns (total 17 columns):\n",
      " #   Column                   Non-Null Count  Dtype  \n",
      "---  ------                   --------------  -----  \n",
      " 0   Patient_ID               10000 non-null  object \n",
      " 1   Age                      10000 non-null  int64  \n",
      " 2   Gender                   10000 non-null  object \n",
      " 3   BMI                      10000 non-null  float64\n",
      " 4   Smoking_Status           10000 non-null  object \n",
      " 5   Family_History           10000 non-null  int64  \n",
      " 6   Allergies                7064 non-null   object \n",
      " 7   Air_Pollution_Level      10000 non-null  object \n",
      " 8   Physical_Activity_Level  10000 non-null  object \n",
      " 9   Occupation_Type          10000 non-null  object \n",
      " 10  Comorbidities            5033 non-null   object \n",
      " 11  Medication_Adherence     10000 non-null  float64\n",
      " 12  Number_of_ER_Visits      10000 non-null  int64  \n",
      " 13  Peak_Expiratory_Flow     10000 non-null  float64\n",
      " 14  FeNO_Level               10000 non-null  float64\n",
      " 15  Has_Asthma               10000 non-null  int64  \n",
      " 16  Asthma_Control_Level     2433 non-null   object \n",
      "dtypes: float64(4), int64(4), object(9)\n",
      "memory usage: 1.3+ MB\n"
     ]
    }
   ],
   "source": [
    "#loading dataset\n",
    "\n",
    "data = pd.read_csv('synthetic_asthma_dataset.csv')\n",
    "#describing dataset\n",
    "data.head()\n",
    "data.info()"
   ]
  },
  {
   "cell_type": "code",
   "execution_count": 40,
   "id": "439c121e",
   "metadata": {},
   "outputs": [],
   "source": [
    "#allergies, comorbidities, asthama_control level has missing values\n",
    "\n",
    "#patient_id is useless, allergies has too many null values, can't use median cuz it can be null too, same for asthma control\n",
    "\n",
    "df = data.drop(columns=['Patient_ID','Allergies','Asthma_Control_Level'])\n",
    "\n",
    "#Filling Nan with most freq used\n",
    "\n",
    "df['Comorbidities'] = df['Comorbidities'].fillna(df['Comorbidities'].mode()[0])\n"
   ]
  },
  {
   "cell_type": "code",
   "execution_count": 41,
   "id": "460a69f0",
   "metadata": {},
   "outputs": [
    {
     "name": "stdout",
     "output_type": "stream",
     "text": [
      "Gender \t ['Female' 'Male' 'Other']\n",
      "Smoking_Status \t ['Former' 'Never' 'Current']\n",
      "Air_Pollution_Level \t ['Moderate' 'Low' 'High']\n",
      "Physical_Activity_Level \t ['Sedentary' 'Moderate' 'Active']\n",
      "Occupation_Type \t ['Outdoor' 'Indoor']\n",
      "Comorbidities \t ['Diabetes' 'Both' 'Hypertension']\n"
     ]
    }
   ],
   "source": [
    "#choosing between label_encoding and onehot encoding in this step\n",
    "#first seeing how many variations of each column has a unique value\n",
    "val = list(df.columns)\n",
    "for i in val:\n",
    "    if df[i].dtype == object:\n",
    "        print(i,\"\\t\",df[i].unique())"
   ]
  },
  {
   "cell_type": "code",
   "execution_count": 42,
   "id": "dcd1de68",
   "metadata": {},
   "outputs": [],
   "source": [
    "#Will use ordinal and one hot as label isn't preffered for logistic n i might use that\n",
    "# won't be scaling cuz using random forest\n",
    "#ordinal\n",
    "target = ['Air_Pollution_Level','Physical_Activity_Level','Occupation_Type']\n",
    "\n",
    "from sklearn.preprocessing import OrdinalEncoder\n",
    "from sklearn.preprocessing import OneHotEncoder\n",
    "\n",
    "cat = [\n",
    "    [\"Low\",\"Moderate\",\"High\"],                # Air_Pollution_Level\n",
    "    [\"Sedentary\",\"Moderate\",\"Active\"],        # Physical_Activity_Level\n",
    "    [\"Indoor\",\"Outdoor\"],                     # Occupation_Type\n",
    "]\n",
    "encoder = OrdinalEncoder(categories=cat)\n",
    "df[target]=encoder.fit_transform(df[target])\n"
   ]
  },
  {
   "cell_type": "code",
   "execution_count": 43,
   "id": "a735139f",
   "metadata": {},
   "outputs": [
    {
     "data": {
      "text/plain": [
       "\"target2 = ['Smoking_Status','Gender','Comorbidities']\\nencoder = OneHotEncoder(sparse_output=False, drop=None)\\nencoded_array = encoder.fit_transform(df[target2])\\nencoded_df = pd.DataFrame(encoded_array, columns=encoder.get_feature_names_out(target2))\\ndf_encoded = pd.concat([df.drop(columns=target2), encoded_df], axis=1)\""
      ]
     },
     "execution_count": 43,
     "metadata": {},
     "output_type": "execute_result"
    }
   ],
   "source": [
    "\"\"\"target2 = ['Smoking_Status','Gender','Comorbidities']\n",
    "encoder = OneHotEncoder(sparse_output=False, drop=None)\n",
    "encoded_array = encoder.fit_transform(df[target2])\n",
    "encoded_df = pd.DataFrame(encoded_array, columns=encoder.get_feature_names_out(target2))\n",
    "df_encoded = pd.concat([df.drop(columns=target2), encoded_df], axis=1)\"\"\"\n",
    "\n"
   ]
  },
  {
   "cell_type": "code",
   "execution_count": 44,
   "id": "d78b81ce",
   "metadata": {},
   "outputs": [],
   "source": [
    "#for logistic we require numerical data so label encoding, random forest doesn't care so usinf this instead of one hot\n",
    "from sklearn.preprocessing import LabelEncoder\n",
    "le = LabelEncoder()\n",
    "for i in target2:\n",
    "    df[i] = le.fit_transform(df[i])"
   ]
  },
  {
   "cell_type": "code",
   "execution_count": 45,
   "id": "57d73ed2",
   "metadata": {},
   "outputs": [],
   "source": [
    "from sklearn.preprocessing import StandardScaler\n",
    "sc = StandardScaler()\n",
    "Data = df.drop(columns=['Has_Asthma'])\n",
    "target3 = list(Data.columns)\n",
    "for i in target3:\n",
    "    df[i] = sc.fit_transform(df[[i]])"
   ]
  },
  {
   "cell_type": "code",
   "execution_count": 46,
   "id": "a6d1f932",
   "metadata": {},
   "outputs": [],
   "source": [
    "y = df['Has_Asthma']\n",
    "X = Data"
   ]
  },
  {
   "cell_type": "code",
   "execution_count": 47,
   "id": "7ff081ab",
   "metadata": {},
   "outputs": [
    {
     "name": "stdout",
     "output_type": "stream",
     "text": [
      "(8000, 13) (2000, 13)\n"
     ]
    }
   ],
   "source": [
    "#now training stuff from above target and independant values\n",
    "from sklearn.model_selection import train_test_split, StratifiedKFold, cross_val_score, GridSearchCV\n",
    "\n",
    "X_train, X_test, y_train, y_test = train_test_split(\n",
    "    X, y, test_size=0.20, stratify=y, random_state=42\n",
    ")\n",
    "print(X_train.shape, X_test.shape)"
   ]
  },
  {
   "cell_type": "code",
   "execution_count": 49,
   "id": "cf7425f1",
   "metadata": {},
   "outputs": [
    {
     "name": "stdout",
     "output_type": "stream",
     "text": [
      "LogisticRegression(max_iter=1000, random_state=42)\n",
      "score --> 0.8615\n",
      "SVC(random_state=42)\n",
      "score --> 0.7565\n",
      "RandomForestClassifier()\n",
      "score --> 0.9185\n"
     ]
    }
   ],
   "source": [
    "from sklearn.linear_model import LogisticRegression\n",
    "from sklearn.svm import SVC\n",
    "from sklearn.ensemble import RandomForestClassifier\n",
    "\n",
    "log = LogisticRegression( penalty='l2', C=1.0,solver='lbfgs',max_iter=1000,random_state=42)\n",
    "svm  = SVC( kernel='rbf',\n",
    "    C=1.0,\n",
    "    gamma='scale',\n",
    "    random_state=42)\n",
    "tree = RandomForestClassifier()\n",
    "\n",
    "clf = [log, svm, tree]\n",
    "for model in clf:\n",
    "    print(model)\n",
    "    model.fit(X_train, y_train)\n",
    "    print(f'score --> {model.score(X_test, y_test)}')"
   ]
  },
  {
   "cell_type": "code",
   "execution_count": 50,
   "id": "4273effd",
   "metadata": {},
   "outputs": [
    {
     "name": "stdout",
     "output_type": "stream",
     "text": [
      "Model training complete!\n"
     ]
    }
   ],
   "source": [
    "# Model making\n",
    "model = RandomForestClassifier(n_estimators=100, random_state=42)\n",
    "\n",
    "# executing model on training data\n",
    "model.fit(X_train, y_train)\n",
    "\n",
    "print(\"Model training complete!\")"
   ]
  },
  {
   "cell_type": "code",
   "execution_count": 54,
   "id": "4bcbb8c7",
   "metadata": {},
   "outputs": [
    {
     "name": "stdout",
     "output_type": "stream",
     "text": [
      "Model Accuracy: 91.30%\n"
     ]
    }
   ],
   "source": [
    "from sklearn.metrics import accuracy_score, confusion_matrix, classification_report\n",
    "\n",
    "# Step 1 Prediction\n",
    "y_pred = model.predict(X_test)\n",
    "\n",
    "# Step 2 Accuracy check\n",
    "accuracy = accuracy_score(y_test, y_pred)\n",
    "print(f\"Model Accuracy: {accuracy * 100:.2f}%\")\n",
    "\n"
   ]
  },
  {
   "cell_type": "code",
   "execution_count": 55,
   "id": "5914ca3e",
   "metadata": {},
   "outputs": [
    {
     "data": {
      "image/png": "[encoded data removed]",
      "text/plain": [
       "<Figure size 600x400 with 2 Axes>"
      ]
     },
     "metadata": {},
     "output_type": "display_data"
    }
   ],
   "source": [
    "cm = confusion_matrix(y_test, y_pred)\n",
    "\n",
    "plt.figure(figsize=(6,4))\n",
    "sns.heatmap(cm, annot=True, fmt='d', cmap='Blues', xticklabels=[\"No Asthma\", \"Has Asthma\"], yticklabels=[\"No Asthma\", \"Has Asthma\"])\n",
    "plt.xlabel(\"Predicted\")\n",
    "plt.ylabel(\"Actual\")\n",
    "plt.title(\"Confusion Matrix\")\n",
    "plt.show()"
   ]
  },
  {
   "cell_type": "code",
   "execution_count": 56,
   "id": "a579d989",
   "metadata": {},
   "outputs": [
    {
     "name": "stdout",
     "output_type": "stream",
     "text": [
      "Classification Report:\n",
      "\n",
      "              precision    recall  f1-score   support\n",
      "\n",
      "   No Asthma       0.97      0.91      0.94      1513\n",
      "  Has Asthma       0.77      0.92      0.84       487\n",
      "\n",
      "    accuracy                           0.91      2000\n",
      "   macro avg       0.87      0.91      0.89      2000\n",
      "weighted avg       0.92      0.91      0.92      2000\n",
      "\n"
     ]
    }
   ],
   "source": [
    "print(\"Classification Report:\\n\")\n",
    "print(classification_report(y_test, y_pred, target_names=[\"No Asthma\", \"Has Asthma\"]))"
   ]
  }
 ],
 "metadata": {
  "kernelspec": {
   "display_name": "myenv",
   "language": "python",
   "name": "python3"
  },
  "language_info": {
   "codemirror_mode": {
    "name": "ipython",
    "version": 3
   },
   "file_extension": ".py",
   "mimetype": "text/x-python",
   "name": "python",
   "nbconvert_exporter": "python",
   "pygments_lexer": "ipython3",
   "version": "3.11.13"
  }
 },
 "nbformat": 4,
 "nbformat_minor": 5
}
